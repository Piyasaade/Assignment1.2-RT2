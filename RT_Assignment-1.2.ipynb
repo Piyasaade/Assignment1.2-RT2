{
 "cells": [
  {
   "cell_type": "code",
   "execution_count": 1,
   "id": "86960a80",
   "metadata": {
    "ExecuteTime": {
     "end_time": "2022-05-27T21:24:26.330079Z",
     "start_time": "2022-05-27T21:24:23.840234Z"
    }
   },
   "outputs": [],
   "source": [
    "import rospy\n",
    "import jupyros\n",
    "from IPython.display import display\n",
    "\n",
    "from geometry_msgs.msg import Twist, Vector3    #for cmd_vel topic\n",
    "\n",
    "from jupyros import ros3d\n",
    "from ipywidgets import Button, Layout, ButtonStyle, GridBox, VBox, HBox\n",
    "import ipywidgets as widgets\n",
    "import actionlib\n",
    "import matplotlib.pyplot as plt\n",
    "import tf\n",
    "from nav_msgs.msg import Odometry\n",
    "from sensor_msgs.msg import LaserScan\n",
    "from tf.transformations import quaternion_matrix\n",
    "import numpy as np\n",
    "from matplotlib.animation import FuncAnimation\n",
    "from move_base_msgs.msg import MoveBaseAction, MoveBaseGoal, MoveBaseActionGoal\n",
    "import os  \n",
    "global x\n",
    "global y\n",
    "rospy.init_node('jupyter_user_interface')\n",
    "##pub_goal = rospy.Publisher('/move_base/goal', MoveBaseActionGoal, queue_size = 1000)\n"
   ]
  },
  {
   "cell_type": "code",
   "execution_count": 2,
   "id": "f62deda0",
   "metadata": {
    "ExecuteTime": {
     "end_time": "2022-05-27T21:24:26.379514Z",
     "start_time": "2022-05-27T21:24:26.364514Z"
    }
   },
   "outputs": [],
   "source": [
    "def control_velocity(direction):\n",
    "    \n",
    "    #initialize a Twist object for the publisher\n",
    "    init = Vector3(0, 0, 0)\n",
    "    vel = Twist( init, init)\n",
    "    \n",
    "    lin_vel = 0.5\n",
    "    ang_vel = 0.5\n",
    "    \n",
    "    #define velocity to actuate a direction\n",
    "    if direction == 'u':\n",
    "        vel.linear.x = lin_vel     \n",
    "    elif direction == 'r':\n",
    "        vel.angular.z = -ang_vel   \n",
    "    elif direction == 'l':\n",
    "        vel.angular.z = ang_vel\n",
    "    elif direction == 'd':\n",
    "        vel.linear.x = -lin_vel\n",
    "    #initialize the publisher\n",
    "    pub = rospy.Publisher('remap_cmd_vel',Twist, queue_size=10)\n",
    "    #pubblic on topic remap_cmd_vel to the robot\n",
    "    pub.publish(vel)\n",
    "        "
   ]
  },
  {
   "cell_type": "code",
   "execution_count": 3,
   "id": "7bdd8f9c",
   "metadata": {
    "ExecuteTime": {
     "end_time": "2022-05-27T21:24:26.477778Z",
     "start_time": "2022-05-27T21:24:26.389393Z"
    }
   },
   "outputs": [],
   "source": [
    "def send_button(b):\n",
    "    if b == s1:\n",
    "        with output:\n",
    "            print(x,y)\n",
    "            callback_case1(x,y)"
   ]
  },
  {
   "cell_type": "code",
   "execution_count": 4,
   "id": "c92f5e5a",
   "metadata": {
    "ExecuteTime": {
     "end_time": "2022-05-27T21:24:26.521406Z",
     "start_time": "2022-05-27T21:24:26.480683Z"
    }
   },
   "outputs": [],
   "source": [
    "def case1():\n",
    "    x = widgets.BoundedFloatText(\n",
    "    value = 0.5,\n",
    "    min = 0.0,\n",
    "    step = 0.1,\n",
    "    description = 'x :',\n",
    "    disabled = False\n",
    "    )\n",
    "    y = widgets.BoundedFloatText(\n",
    "    value = 0.5,\n",
    "    min = 0.0,\n",
    "    step = 0.1,\n",
    "    description = 'y :',\n",
    "    disabled = False\n",
    "    )\n",
    "    display(x,y)\n",
    "\n"
   ]
  },
  {
   "cell_type": "code",
   "execution_count": 5,
   "id": "43384e80",
   "metadata": {
    "ExecuteTime": {
     "end_time": "2022-05-27T21:24:26.924039Z",
     "start_time": "2022-05-27T21:24:26.913122Z"
    }
   },
   "outputs": [],
   "source": [
    "def case2():  \n",
    "    display(control)\n",
    "    \n",
    "    up.on_click(on_button_clicked_direction)\n",
    "    left.on_click(on_button_clicked_direction)\n",
    "    right.on_click(on_button_clicked_direction)\n",
    "    down.on_click(on_button_clicked_direction)\n",
    "\n",
    "def check_obstacles(b):\n",
    "    rospy.set_param(\"/obstacles_avoidance\", check.value)"
   ]
  },
  {
   "cell_type": "code",
   "execution_count": 6,
   "id": "0252b645",
   "metadata": {
    "ExecuteTime": {
     "end_time": "2022-05-27T21:24:28.246538Z",
     "start_time": "2022-05-27T21:24:28.234833Z"
    }
   },
   "outputs": [],
   "source": [
    "def callback_case1(x,y):\n",
    "    print(\"i am in the function\")\n",
    "    client = actionlib.SimpleActionClient('move_base', MoveBaseAction)\n",
    "    #waiting for the connection with the server\n",
    "    print(\"i am waiting\")\n",
    "    client.wait_for_server()\n",
    "    print(\"i passed the wait\")\n",
    "    #create the goal\n",
    "    goal = MoveBaseGoal()\n",
    "    #set the goal parameter\n",
    "    goal.target_pose.header.frame_id = 'map'\n",
    "    goal.target_pose.pose.orientation.w = 1\n",
    "    goal.target_pose.pose.position.x = x\n",
    "    goal.target_pose.pose.position.y = y\n",
    "    #send the goal\n",
    "    client.send_goal(goal)\n",
    "    pub_goal = rospy.Publisher('/move_base/goal', MoveBaseActionGoal, queue_size = 1000)\n",
    "\n",
    "    finished_within_time = client.wait_for_result(rospy.Duration(60.0))\n",
    "    if not finished_within_time:\n",
    "        client.cancel_goal()\n",
    "        rospy.loginfo(\"Timed out achieving goal\")\n",
    "        return -1\n",
    "    else:\n",
    "        rospy.loginfo(\"Goal succeeded!\")\n",
    "        return 1\n"
   ]
  },
  {
   "cell_type": "code",
   "execution_count": 7,
   "id": "ab1a0c94",
   "metadata": {
    "ExecuteTime": {
     "end_time": "2022-05-27T21:24:30.126536Z",
     "start_time": "2022-05-27T21:24:30.115091Z"
    }
   },
   "outputs": [],
   "source": [
    "#button activation\n",
    "def on_button_clicked(b):\n",
    "    if b == P1:\n",
    "        with output:\n",
    "            case1()\n",
    "            print(\"case 1\")\n",
    "            display(HBox([s1]), output)\n",
    "            s1.on_click(send_button)\n",
    "    if b == P2:\n",
    "        with output:\n",
    "            case2()\n",
    "            \n",
    "    if b == P3:\n",
    "        with output:\n",
    "            case2()\n",
    "            check.observe(check_obstacles, names='value')\n",
    "            display(check)\n",
    "\n",
    "def on_button_clicked_direction(b):\n",
    "    if b == up:\n",
    "        control_velocity('u')\n",
    "    if b == left:\n",
    "        control_velocity('l')\n",
    "    if b == right:\n",
    "        control_velocity('r')\n",
    "    if b == down:\n",
    "        control_velocity('d')\n",
    "        \n",
    "\n"
   ]
  },
  {
   "cell_type": "code",
   "execution_count": 8,
   "id": "70de7391",
   "metadata": {
    "ExecuteTime": {
     "end_time": "2022-05-27T21:19:56.584588Z",
     "start_time": "2022-05-27T21:19:56.235805Z"
    }
   },
   "outputs": [
    {
     "data": {
      "application/vnd.jupyter.widget-view+json": {
       "model_id": "caac73c99041404689993fe4010526d4",
       "version_major": 2,
       "version_minor": 0
      },
      "text/plain": [
       "HBox(children=(Button(description='choosing X and Y', layout=Layout(grid_area='P1', width='auto'), style=Butto…"
      ]
     },
     "metadata": {},
     "output_type": "display_data"
    },
    {
     "data": {
      "application/vnd.jupyter.widget-view+json": {
       "model_id": "c173d00615a842c1af5623ade94d9cbf",
       "version_major": 2,
       "version_minor": 0
      },
      "text/plain": [
       "Output()"
      ]
     },
     "metadata": {},
     "output_type": "display_data"
    }
   ],
   "source": [
    "s1 = Button(description='send X and Y',\n",
    "    layout=Layout(width='auto', grid_area='s1'),\n",
    "    style=ButtonStyle(button_color='yellow'))\n",
    "output = widgets.Output()\n",
    "\n",
    "up  = Button(description='up',\n",
    "                 layout=Layout(width='auto', grid_area='up'),\n",
    "                 style=ButtonStyle(button_color='lightblue'))\n",
    "left   = Button(description='left',\n",
    "                 layout=Layout(width='auto', grid_area='left'),\n",
    "                 style=ButtonStyle(button_color='moccasin'))\n",
    "right = Button(description='right',\n",
    "                 layout=Layout(width='auto', grid_area='right'),\n",
    "                 style=ButtonStyle(button_color='salmon'))\n",
    "down  = Button(description='down',\n",
    "                 layout=Layout(width='auto', grid_area='down'),\n",
    "                 style=ButtonStyle(button_color='olive'))\n",
    "\n",
    "control=GridBox(children=[up, left, right, down],\n",
    "        layout=Layout(\n",
    "            width='50%',\n",
    "            grid_template_rows='auto auto auto',\n",
    "            grid_template_columns='25% 25% 25% 25%',\n",
    "            grid_template_areas='''\n",
    "            \". up up .\"\n",
    "            \"left . .  right \"\n",
    "            \". down down .\"\n",
    "            ''')\n",
    "       )\n",
    "\n",
    "check = widgets.Checkbox(\n",
    "    value = True,\n",
    "    description='active obstacle avoidance'\n",
    ")\n",
    "\n",
    "P1 = Button(description='choosing X and Y',\n",
    "            layout=Layout(width='auto', grid_area='P1'),\n",
    "            style=ButtonStyle(button_color='lightblue'))\n",
    "P2 = Button(description='controlling using keyboard',\n",
    "            layout=Layout(width='auto', align='center', grid_area='P2'),\n",
    "            style=ButtonStyle(button_color='green'))\n",
    "P3 = Button(description='controlling using keyboard and avoiding obstacles',\n",
    "            layout=Layout(width='auto', grid_area='b3'),\n",
    "            style=ButtonStyle(button_color='red'))\n",
    "\n",
    "output = widgets.Output()\n",
    "\n",
    "display(HBox([P1,P2,P3]), output)\n",
    "\n",
    "\n",
    "P1.on_click(on_button_clicked)\n",
    "P2.on_click(on_button_clicked)\n",
    "P3.on_click(on_button_clicked)\n"
   ]
  },
  {
   "cell_type": "code",
   "execution_count": 8,
   "id": "17bc3b9e",
   "metadata": {
    "ExecuteTime": {
     "end_time": "2022-05-27T21:24:35.315533Z",
     "start_time": "2022-05-27T21:24:35.303076Z"
    }
   },
   "outputs": [],
   "source": [
    "def display_map():\n",
    "    #display a live map of the working enviroment of the robot\n",
    "    \n",
    "    \n",
    "    v = ros3d.Viewer()\n",
    "    rc = ros3d.ROSConnection(url=\"ws://localhost:9090\")\n",
    "    tf_client = ros3d.TFClient(ros=rc, fixed_frame='map')\n",
    "\n",
    "    laser_view = ros3d.LaserScan(topic=\"/scan\", ros=rc, tf_client=tf_client)\n",
    "    map_view = ros3d.OccupancyGrid(topic=\"/map\", ros=rc, tf_client=tf_client, continuous=True)\n",
    "    path = ros3d.Path(topic=\"/move_base/NavfnROS/plan\", ros=rc,\n",
    "    tf_client=tf_client)\n",
    "    urdf = ros3d.URDFModel(ros=rc, tf_client=tf_client,\n",
    "    path=os.environ.get('JUPYROS_ASSETS_URL', 'http://localhost:3000'))\n",
    "    g = ros3d.GridModel()\n",
    "\n",
    "    #v.objects = [g, laser_view, map_view, path, urdf]\n",
    "    v.objects = [laser_view, map_view, urdf]\n",
    "\n",
    "    display(v)"
   ]
  },
  {
   "cell_type": "code",
   "execution_count": 10,
   "id": "c3850ba9",
   "metadata": {
    "ExecuteTime": {
     "end_time": "2022-05-27T21:21:17.287910Z",
     "start_time": "2022-05-27T21:21:15.015090Z"
    }
   },
   "outputs": [
    {
     "data": {
      "image/png": "[encoded data removed]",
      "text/plain": [
       "<Figure size 432x288 with 1 Axes>"
      ]
     },
     "metadata": {
      "needs_background": "light"
     },
     "output_type": "display_data"
    },
    {
     "data": {
      "image/png": "[encoded data removed]",
      "text/plain": [
       "<Figure size 432x288 with 1 Axes>"
      ]
     },
     "metadata": {
      "needs_background": "light"
     },
     "output_type": "display_data"
    },
    {
     "data": {
      "image/png": "[encoded data removed]",
      "text/plain": [
       "<Figure size 432x288 with 1 Axes>"
      ]
     },
     "metadata": {
      "needs_background": "light"
     },
     "output_type": "display_data"
    },
    {
     "data": {
      "text/plain": [
       "Text(0.5, 1.0, 'position tracked')"
      ]
     },
     "execution_count": 10,
     "metadata": {},
     "output_type": "execute_result"
    },
    {
     "data": {
      "image/png": "[encoded data removed]",
      "text/plain": [
       "<Figure size 432x288 with 1 Axes>"
      ]
     },
     "metadata": {
      "needs_background": "light"
     },
     "output_type": "display_data"
    }
   ],
   "source": [
    "class Visualiser1:\n",
    "    def __init__(self):\n",
    "        self.fig, self.ax = plt.subplots()\n",
    "        self.ln, = plt.plot([], [], 'ro')\n",
    "        self.x_data, self.y_data = [] , []\n",
    "    def plot_init(self):\n",
    "        self.ax.set_xlim(-10, 10)\n",
    "        self.ax.set_ylim(-10, 10)\n",
    "        return self.ln\n",
    "    def odom_callback(self, msg):\n",
    "        self.y_data.append(msg.pose.pose.position.y)\n",
    "        self.x_data.append(msg.pose.pose.position.x)\n",
    "    def update_plot(self, frame):\n",
    "        self.ln.set_data(self.x_data, self.y_data)\n",
    "        return self.ln\n",
    "\n",
    "vis = Visualiser1()\n",
    "sub = rospy.Subscriber('/odom', Odometry, vis.odom_callback)\n",
    "ani = FuncAnimation(vis.fig, vis.update_plot, init_func=vis.plot_init)\n",
    "plt.show(block=True)\n",
    "plt.title( \"position tracked\")"
   ]
  },
  {
   "cell_type": "code",
   "execution_count": null,
   "id": "7d6b9dd9",
   "metadata": {},
   "outputs": [],
   "source": [
    "class Visualiser2:\n",
    "    def __init__(self):\n",
    "        self.fig, self.ax = plt.subplots()\n",
    "        self.ln, = plt.plot([], [], 'ro')\n",
    "        self.x_data, self.y_data = [] , []\n",
    "    def plot_init(self):\n",
    "        self.ax.set_xlim(-10, 10)\n",
    "        self.ax.set_ylim(-10, 10)\n",
    "        return self.ln\n",
    "    def laserScan_callback(self, msg):\n",
    "        self.d_data = msg.ranges\n",
    "    def update_plot(self, frame):\n",
    "        self.ln.set_data( self.theta_data, self.d_data )\n",
    "        return self.ln\n",
    "\n",
    "vis2 = Visualiser2()    \n",
    "sub2 = rospy.Subscriber('/scan', LaserScan, vis2.laserScan_callback)\n",
    "ani2 = FuncAnimation(vis2.fig, vis2.update_plot, init_func=vis2.plot_init)\n",
    "plt.show(block=True)\n",
    "plt.title(\"Laser scan tracked\")"
   ]
  },
  {
   "cell_type": "code",
   "execution_count": null,
   "id": "f8358f5d",
   "metadata": {},
   "outputs": [],
   "source": []
  }
 ],
 "metadata": {
  "hide_input": false,
  "kernelspec": {
   "display_name": "Python 3 (ipykernel)",
   "language": "python",
   "name": "python3"
  },
  "language_info": {
   "codemirror_mode": {
    "name": "ipython",
    "version": 3
   },
   "file_extension": ".py",
   "mimetype": "text/x-python",
   "name": "python",
   "nbconvert_exporter": "python",
   "pygments_lexer": "ipython3",
   "version": "3.8.10"
  },
  "toc": {
   "base_numbering": 1,
   "nav_menu": {},
   "number_sections": true,
   "sideBar": true,
   "skip_h1_title": false,
   "title_cell": "Table of Contents",
   "title_sidebar": "Contents",
   "toc_cell": false,
   "toc_position": {},
   "toc_section_display": true,
   "toc_window_display": false
  },
  "varInspector": {
   "cols": {
    "lenName": 16,
    "lenType": 16,
    "lenVar": 40
   },
   "kernels_config": {
    "python": {
     "delete_cmd_postfix": "",
     "delete_cmd_prefix": "del ",
     "library": "var_list.py",
     "varRefreshCmd": "print(var_dic_list())"
    },
    "r": {
     "delete_cmd_postfix": ") ",
     "delete_cmd_prefix": "rm(",
     "library": "var_list.r",
     "varRefreshCmd": "cat(var_dic_list()) "
    }
   },
   "types_to_exclude": [
    "module",
    "function",
    "builtin_function_or_method",
    "instance",
    "_Feature"
   ],
   "window_display": false
  }
 },
 "nbformat": 4,
 "nbformat_minor": 5
}
